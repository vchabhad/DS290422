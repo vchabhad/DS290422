{
 "cells": [
  {
   "cell_type": "code",
   "execution_count": null,
   "id": "efe18390",
   "metadata": {},
   "outputs": [],
   "source": [
    "\"\"\"\"\"\"Write a program to find all pairs of an integer array whose sum is equal to a given number?\"\"\"\"\"\""
   ]
  },
  {
   "cell_type": "code",
   "execution_count": 1,
   "id": "098f5952",
   "metadata": {},
   "outputs": [
    {
     "name": "stdout",
     "output_type": "stream",
     "text": [
      "Enter how many Array elements => 5\n",
      "Enter element =>1\n",
      "Enter element =>2\n",
      "Enter element =>3\n",
      "Enter element =>4\n",
      "Enter element =>5\n",
      "Enter sum:5\n",
      "(1, 4)\n",
      "(2, 3)\n"
     ]
    }
   ],
   "source": [
    "n = int(input('Enter how many Array elements => '))\n",
    "\n",
    "inp = [int(input(\"Enter element =>\")) for i in range(n)]\n",
    "sum=int(input(\"Enter sum:\"))\n",
    "\n",
    "n=len(inp)\n",
    "for i in range(0, n ):\n",
    "    for j in range(i + 1, n ):\n",
    "        if (inp[i] + inp[j] == sum):\n",
    "            print(\"(\", inp[i],\n",
    "                  \", \", inp[j],\n",
    "                  \")\", sep = \"\")"
   ]
  },
  {
   "cell_type": "code",
   "execution_count": null,
   "id": "1664ebda",
   "metadata": {},
   "outputs": [],
   "source": [
    "#Write a program to reverse an array in place? In place means you cannot create a new array. You have to update the original array."
   ]
  },
  {
   "cell_type": "code",
   "execution_count": 3,
   "id": "e3ff2ff1",
   "metadata": {},
   "outputs": [
    {
     "name": "stdout",
     "output_type": "stream",
     "text": [
      "Enter how many Array elements => 5\n",
      "Enter element =>1\n",
      "Enter element =>2\n",
      "Enter element =>3\n",
      "Enter element =>4\n",
      "Enter element =>5\n",
      "[5, 4, 3, 2, 1]\n"
     ]
    }
   ],
   "source": [
    "n = int(input('Enter how many Array elements => '))\n",
    "\n",
    "arr = [int(input(\"Enter element =>\")) for i in range(n)]\n",
    "start=0\n",
    "end=len(arr)-1\n",
    "\n",
    "while start < end:\n",
    "        arr[start], arr[end] = arr[end], arr[start]\n",
    "        start += 1\n",
    "        end -= 1\n",
    "        \n",
    "print(arr)"
   ]
  },
  {
   "cell_type": "code",
   "execution_count": 5,
   "id": "0afda623",
   "metadata": {},
   "outputs": [],
   "source": [
    "#Write a program to check if two strings are a rotation of each other?"
   ]
  },
  {
   "cell_type": "code",
   "execution_count": 6,
   "id": "c8187bfe",
   "metadata": {},
   "outputs": [
    {
     "name": "stdout",
     "output_type": "stream",
     "text": [
      "Enter string 1 =>vish\n",
      "Enter string 2 =>ishv\n",
      "Strings are rotations of each other\n"
     ]
    }
   ],
   "source": [
    "str1=input(\"Enter string 1 =>\")\n",
    "str2=input(\"Enter string 2 =>\")\n",
    "size1 = len(str1)\n",
    "size2 = len(str2)\n",
    "temp = ''\n",
    "  \n",
    "\n",
    "if size1 != size2:\n",
    "    print(\"Strings are not rotations of each other\")\n",
    "else:\n",
    "    temp = str1 + str1\n",
    "    if (temp.count(str2)> 0):\n",
    "        print (\"Strings are rotations of each other\")\n",
    "    else:\n",
    "        print (\"Strings are not rotations of each other\")\n",
    "  "
   ]
  },
  {
   "cell_type": "code",
   "execution_count": 7,
   "id": "9ffdc0d6",
   "metadata": {},
   "outputs": [],
   "source": [
    "#Write a program to print the first non-repeated character from a string?"
   ]
  },
  {
   "cell_type": "code",
   "execution_count": 6,
   "id": "9ccbd51a",
   "metadata": {},
   "outputs": [
    {
     "name": "stdout",
     "output_type": "stream",
     "text": [
      "Enter string =>visal\n",
      "First non-repeating character is:  v\n"
     ]
    }
   ],
   "source": [
    "s = input(\"Enter string =>\")\n",
    "while s != \"\":\n",
    "   slen0 = len(s)\n",
    "   ch = s[0]\n",
    "   s = s.replace(ch, \"\")\n",
    "   slen1 = len(s)\n",
    "   if slen1 == slen0-1:\n",
    "      print (\"First non-repeating character is: \",ch)\n",
    "      break;\n",
    "   else:\n",
    "       print (\"No Unique Character Found!\")"
   ]
  },
  {
   "cell_type": "code",
   "execution_count": 7,
   "id": "24dfea21",
   "metadata": {},
   "outputs": [],
   "source": [
    "#Read about the Tower of Hanoi algorithm. Write a program to implement it."
   ]
  },
  {
   "cell_type": "code",
   "execution_count": 14,
   "id": "e3015327",
   "metadata": {},
   "outputs": [
    {
     "name": "stdout",
     "output_type": "stream",
     "text": [
      "Enter the number of disks =>1\n",
      "Move disk 1 from source A to destination B\n"
     ]
    }
   ],
   "source": [
    "def TowerOfHanoi(n , source, destination, auxiliary):\n",
    "    if n==1:\n",
    "        print (\"Move disk 1 from source\",source,\"to destination\",destination)\n",
    "        return\n",
    "    TowerOfHanoi(n-1, source, auxiliary, destination)\n",
    "    print (\"Move disk\",n,\"from source\",source,\"to destination\",destination)\n",
    "    TowerOfHanoi(n-1, auxiliary, destination, source)\n",
    "    \n",
    "n=int(input(\"Enter the number of disks =>\"))\n",
    "\n",
    "TowerOfHanoi(n,'A','B','C')"
   ]
  },
  {
   "cell_type": "code",
   "execution_count": 15,
   "id": "753e0871",
   "metadata": {},
   "outputs": [],
   "source": [
    "#Read about infix, prefix, and postfix expressions. Write a program to convert postfix to prefix expression."
   ]
  },
  {
   "cell_type": "code",
   "execution_count": 22,
   "id": "a8577420",
   "metadata": {},
   "outputs": [
    {
     "name": "stdout",
     "output_type": "stream",
     "text": [
      "Type Y if you want to Enter input or program will use hardcodded input =>no\n",
      "Prefix :  +AB-CD\n"
     ]
    }
   ],
   "source": [
    "def isOperator(x):\n",
    " \n",
    "    if x == \"+\":\n",
    "        return True\n",
    " \n",
    "    if x == \"-\":\n",
    "        return True\n",
    " \n",
    "    if x == \"/\":\n",
    "        return True\n",
    " \n",
    "    if x == \"*\":\n",
    "        return True\n",
    " \n",
    "    return False\n",
    "def postToPre(post_exp):\n",
    " \n",
    "    s = []\n",
    "    length = len(post_exp)\n",
    "\n",
    "    for i in range(length):\n",
    " \n",
    "        if (isOperator(post_exp[i])):\n",
    " \n",
    "            op1 = s[-1]\n",
    "            s.pop()\n",
    "            op2 = s[-1]\n",
    "            s.pop()\n",
    " \n",
    "            temp = post_exp[i] + op2 + op1\n",
    "            s.append(temp)\n",
    "        else:\n",
    " \n",
    "            # push the operand to the stack\n",
    "            s.append(post_exp[i])\n",
    " \n",
    "    \n",
    "    ans = \"\"\n",
    "    for i in s:\n",
    "        ans += i\n",
    "    return ans\n",
    "\n",
    "if __name__ == \"__main__\":\n",
    "    choise= input((\"Type Y if you want to Enter input or program will use hardcodded input =>\"))\n",
    "    if choise == \"Y\" or choise == \"y\":\n",
    "        post_exp=input(\"Enter input as postfix\")\n",
    "    else :\n",
    "        post_exp = \"AB+CD-\"\n",
    "     \n",
    "    print(\"Prefix : \", postToPre(post_exp))"
   ]
  },
  {
   "cell_type": "code",
   "execution_count": null,
   "id": "519719e2",
   "metadata": {},
   "outputs": [],
   "source": [
    "#Write a program to convert prefix expression to infix expression."
   ]
  },
  {
   "cell_type": "code",
   "execution_count": 23,
   "id": "38621cc9",
   "metadata": {},
   "outputs": [
    {
     "name": "stdout",
     "output_type": "stream",
     "text": [
      "Type Y if you want to Enter input or program will use hardcodded input =>no\n",
      "((A-(B/C))*((A/K)-L))\n"
     ]
    }
   ],
   "source": [
    "def prefixToInfix(prefix):\n",
    "    stack = []\n",
    "     \n",
    "    i = len(prefix) - 1\n",
    "    while i >= 0:\n",
    "        if not isOperator(prefix[i]):\n",
    "             \n",
    "            stack.append(prefix[i])\n",
    "            i -= 1\n",
    "        else:\n",
    "           \n",
    "            pre = \"(\" + stack.pop() + prefix[i] + stack.pop() + \")\"\n",
    "            stack.append(pre)\n",
    "            i -= 1\n",
    "     \n",
    "    return stack.pop()\n",
    " \n",
    "def isOperator(c):\n",
    "    if c == \"*\" or c == \"+\" or c == \"-\" or c == \"/\" or c == \"^\" or c == \"(\" or c == \")\":\n",
    "        return True\n",
    "    else:\n",
    "        return False\n",
    "    \n",
    "if __name__==\"__main__\":\n",
    "    \n",
    "    choise= input((\"Type Y if you want to Enter input or program will use hardcodded input =>\"))\n",
    "    if choise == \"Y\" or choise == \"y\":\n",
    "        pre=input(\"Enter input as prefix =>\")\n",
    "    else :\n",
    "        pre = \"*-A/BC-/AKL\"\n",
    "    \n",
    "    print(prefixToInfix(pre))"
   ]
  },
  {
   "cell_type": "code",
   "execution_count": 24,
   "id": "71ef997b",
   "metadata": {},
   "outputs": [],
   "source": [
    "#Write a program to check if all the brackets are closed in a given code snippet."
   ]
  },
  {
   "cell_type": "code",
   "execution_count": 27,
   "id": "4cd5d87d",
   "metadata": {},
   "outputs": [
    {
     "name": "stdout",
     "output_type": "stream",
     "text": [
      "Type Y if you want to Enter input or program will use hardcodded input =>y\n",
      "Enter input to check brackets =>{}{}{}{}{\n",
      "Open bracket not closed\n"
     ]
    }
   ],
   "source": [
    "def Balancedbrackets(inp):\n",
    "    stack = []\n",
    " \n",
    " \n",
    "    for char in inp:\n",
    "        if char in [\"(\", \"{\", \"[\"]:\n",
    " \n",
    "       \n",
    "            stack.append(char)\n",
    "        else:\n",
    " \n",
    "           \n",
    "            if not stack:\n",
    "                return False\n",
    "            current_char = stack.pop()\n",
    "            if current_char == '(':\n",
    "                if char != \")\":\n",
    "                    return False\n",
    "            if current_char == '{':\n",
    "                if char != \"}\":\n",
    "                    return False\n",
    "            if current_char == '[':\n",
    "                if char != \"]\":\n",
    "                    return False\n",
    " \n",
    "    if stack:\n",
    "        return False\n",
    "    return True\n",
    " \n",
    " \n",
    "\n",
    "if __name__ == \"__main__\":\n",
    "    \n",
    "    choise= input((\"Type Y if you want to Enter input or program will use hardcodded input =>\"))\n",
    "    if choise == \"Y\" or choise == \"y\":\n",
    "        inp=input(\"Enter input to check brackets =>\")\n",
    "    else :\n",
    "        inp = \"{()}[]\"\n",
    "        \n",
    "        \n",
    "    \n",
    " \n",
    "    # Function call\n",
    "    if Balancedbrackets(inp):\n",
    "        print(\"All open brackets are closed\")\n",
    "    else:\n",
    "        print(\"Open brackets not closed\")"
   ]
  },
  {
   "cell_type": "code",
   "execution_count": null,
   "id": "ff2009d8",
   "metadata": {},
   "outputs": [],
   "source": [
    "#Write a program to reverse a stack."
   ]
  },
  {
   "cell_type": "code",
   "execution_count": 35,
   "id": "8d946440",
   "metadata": {},
   "outputs": [
    {
     "name": "stdout",
     "output_type": "stream",
     "text": [
      "Original Stack\n",
      "5\n",
      "4\n",
      "3\n",
      "2\n",
      "1\n",
      "\n",
      "Stack after Reversing\n",
      "1\n",
      "2\n",
      "3\n",
      "4\n",
      "5\n"
     ]
    }
   ],
   "source": [
    "class Stack:\n",
    "  \n",
    "    def __init__(self):\n",
    "        self.Elements = []\n",
    "\n",
    "    def push(self, value):\n",
    "        self.Elements.append(value)\n",
    "\n",
    "    def pop(self):\n",
    "        return self.Elements.pop()\n",
    "\n",
    "    def isempty(self):\n",
    "        return self.Elements == []\n",
    "\n",
    "    def display(self):\n",
    "        for value in reversed(self.Elements):\n",
    "            print(value)\n",
    "    \n",
    "  \n",
    "    def BottomInsert(s, value):\n",
    "\n",
    "        if s.isempty(): \n",
    "\n",
    "            s.push(value)\n",
    "\n",
    "        else:\n",
    "            popped = s.pop()\n",
    "            BottomInsert(s, value)\n",
    "            s.push(popped)\n",
    "\n",
    "    def Reverse(s):\n",
    "        if s.isempty():\n",
    "            pass\n",
    "        else:\n",
    "            popped = s.pop()\n",
    "            Reverse(s)\n",
    "            BottomInsert(s, popped)\n",
    "\n",
    "  \n",
    "stack1 = Stack()\n",
    "  \n",
    "stack1.push(1)\n",
    "stack1.push(2)\n",
    "stack1.push(3)\n",
    "stack1.push(4)\n",
    "stack1.push(5)\n",
    "  \n",
    "print(\"Original Stack\")\n",
    "stack1.display()\n",
    "  \n",
    "print(\"\\nStack after Reversing\")\n",
    "Reverse(stack1)\n",
    "stack1.display()"
   ]
  },
  {
   "cell_type": "code",
   "execution_count": null,
   "id": "f9e09981",
   "metadata": {},
   "outputs": [],
   "source": [
    "Write a program to find the smallest number using a stack."
   ]
  },
  {
   "cell_type": "code",
   "execution_count": 40,
   "id": "4330fdbe",
   "metadata": {},
   "outputs": [
    {
     "name": "stdout",
     "output_type": "stream",
     "text": [
      "min value in stack:  1\n"
     ]
    }
   ],
   "source": [
    "class MinStack(object):\n",
    "   min=float('inf')\n",
    "   def __init__(self):\n",
    "      self.min=float('inf')\n",
    "      self.stack = []\n",
    "   def push(self, x):\n",
    "      if x<=self.min:\n",
    "         self.stack.append(self.min)\n",
    "         self.min = x\n",
    "      self.stack.append(x)\n",
    "   def pop(self):\n",
    "      t = self.stack[-1]\n",
    "      self.stack.pop()\n",
    "      if self.min == t:\n",
    "         self.min = self.stack[-1]\n",
    "         self.stack.pop()\n",
    "   def top(self):\n",
    "      return self.stack[-1]\n",
    "   def getMin(self):\n",
    "      return self.min\n",
    "m = MinStack()\n",
    "m.push(1)\n",
    "m.push(2)\n",
    "m.push(3)\n",
    "m.push(4)\n",
    "m.push(5)\n",
    "print(\"min value in stack: \",m.getMin())"
   ]
  },
  {
   "cell_type": "code",
   "execution_count": null,
   "id": "0120f554",
   "metadata": {},
   "outputs": [],
   "source": []
  }
 ],
 "metadata": {
  "kernelspec": {
   "display_name": "Python 3 (ipykernel)",
   "language": "python",
   "name": "python3"
  },
  "language_info": {
   "codemirror_mode": {
    "name": "ipython",
    "version": 3
   },
   "file_extension": ".py",
   "mimetype": "text/x-python",
   "name": "python",
   "nbconvert_exporter": "python",
   "pygments_lexer": "ipython3",
   "version": "3.10.2"
  }
 },
 "nbformat": 4,
 "nbformat_minor": 5
}
